{
 "cells": [
  {
   "cell_type": "markdown",
   "id": "18053aad-ba4a-41f3-897d-2a1e8b1bf0cc",
   "metadata": {},
   "source": [
    "# GROUP 6 PROJECT \n",
    "#### Members: Kaylie Nguyen, Chi Pham, Rohan Shan, Max Xu"
   ]
  },
  {
   "cell_type": "markdown",
   "id": "4de46e99-2543-49a0-8d04-7331019b40a7",
   "metadata": {},
   "source": [
    "## Introduction"
   ]
  },
  {
   "cell_type": "markdown",
   "id": "fd6fde7b-c592-46d7-a112-2e698ddcdab0",
   "metadata": {},
   "source": [
    "## Preliminary Results"
   ]
  },
  {
   "cell_type": "markdown",
   "id": "20c2b5c8-b550-46aa-bbc9-2c33d3906b87",
   "metadata": {},
   "source": [
    "## Methods: Plan"
   ]
  },
  {
   "cell_type": "markdown",
   "id": "25021c23-caed-4281-b39e-924a6ddc821b",
   "metadata": {},
   "source": [
    "## References"
   ]
  },
  {
   "cell_type": "code",
   "execution_count": null,
   "id": "05d5f775-66d4-4622-8991-2327afece124",
   "metadata": {},
   "outputs": [],
   "source": []
  }
 ],
 "metadata": {
  "kernelspec": {
   "display_name": "R",
   "language": "R",
   "name": "ir"
  },
  "language_info": {
   "codemirror_mode": "r",
   "file_extension": ".r",
   "mimetype": "text/x-r-source",
   "name": "R",
   "pygments_lexer": "r",
   "version": "4.1.3"
  }
 },
 "nbformat": 4,
 "nbformat_minor": 5
}
